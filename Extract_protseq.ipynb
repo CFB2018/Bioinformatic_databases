{
 "cells": [
  {
   "cell_type": "code",
   "execution_count": 57,
   "id": "7e1190a0-8aba-452f-8e41-be1d0dacaf72",
   "metadata": {},
   "outputs": [],
   "source": [
    "#Import modules\n",
    "from Bio.PDB import PDBParser, PDBList\n",
    "#help(PDBList)"
   ]
  },
  {
   "cell_type": "code",
   "execution_count": 59,
   "id": "70313a30-cbca-4890-8ebb-1aaf1895aa2e",
   "metadata": {},
   "outputs": [
    {
     "name": "stdout",
     "output_type": "stream",
     "text": [
      "Structure exists: 'dir\\pdb7byr.ent' \n"
     ]
    },
    {
     "data": {
      "text/plain": [
       "'dir\\\\pdb7byr.ent'"
      ]
     },
     "execution_count": 59,
     "metadata": {},
     "output_type": "execute_result"
    }
   ],
   "source": [
    "#Download the 7BYR structure from the PDB database\n",
    "pdbl=PDBList()\n",
    "pdbl.retrieve_pdb_file(\"7BYR\", file_format=\"pdb\", pdir=\"dir\")"
   ]
  },
  {
   "cell_type": "code",
   "execution_count": 61,
   "id": "67ee7baf-f738-4f69-82ab-2381ad838aed",
   "metadata": {},
   "outputs": [
    {
     "name": "stderr",
     "output_type": "stream",
     "text": [
      "C:\\Users\\marbj610\\AppData\\Local\\anaconda3\\Lib\\site-packages\\Bio\\PDB\\StructureBuilder.py:89: PDBConstructionWarning: WARNING: Chain A is discontinuous at line 26237.\n",
      "  warnings.warn(\n",
      "C:\\Users\\marbj610\\AppData\\Local\\anaconda3\\Lib\\site-packages\\Bio\\PDB\\StructureBuilder.py:89: PDBConstructionWarning: WARNING: Chain B is discontinuous at line 26405.\n",
      "  warnings.warn(\n",
      "C:\\Users\\marbj610\\AppData\\Local\\anaconda3\\Lib\\site-packages\\Bio\\PDB\\StructureBuilder.py:89: PDBConstructionWarning: WARNING: Chain C is discontinuous at line 26545.\n",
      "  warnings.warn(\n"
     ]
    }
   ],
   "source": [
    "parser = PDBParser()\n",
    "structure = parser.get_structure(\"7BYR\",\"dir/pdb7byr.ent\")"
   ]
  },
  {
   "cell_type": "code",
   "execution_count": 63,
   "id": "ff04ea16-6dce-4538-90d5-7fdeafffba71",
   "metadata": {},
   "outputs": [
    {
     "name": "stdout",
     "output_type": "stream",
     "text": [
      "chainid: A\n",
      "chainid: B\n",
      "chainid: C\n",
      "chainid: H\n",
      "chainid: L\n",
      "chainid: D\n",
      "chainid: E\n",
      "chainid: F\n",
      "chainid: G\n",
      "chainid: I\n",
      "chainid: J\n"
     ]
    }
   ],
   "source": [
    "#How many chains does the structure contain?\n",
    "for chain in structure[0]:\n",
    "    print(\"chainid: {}\".format(chain.id))"
   ]
  },
  {
   "cell_type": "code",
   "execution_count": 65,
   "id": "de64acdf-6e34-4d85-8dfe-a13548020e94",
   "metadata": {},
   "outputs": [
    {
     "data": {
      "text/plain": [
       "3.84"
      ]
     },
     "execution_count": 65,
     "metadata": {},
     "output_type": "execute_result"
    }
   ],
   "source": [
    "resolution = structure.header[\"resolution\"]\n",
    "resolution"
   ]
  },
  {
   "cell_type": "code",
   "execution_count": 67,
   "id": "ee7cfdcc-f3ee-4ef3-88d2-a2a8e356c953",
   "metadata": {},
   "outputs": [
    {
     "data": {
      "text/plain": [
       "'sars-cov-2, antigen, rbd, neutralizing antibody, viral protein'"
      ]
     },
     "execution_count": 67,
     "metadata": {},
     "output_type": "execute_result"
    }
   ],
   "source": [
    "#Which keywords are associated with this structure?\n",
    "keywords = structure.header[\"keywords\"]\n",
    "keywords"
   ]
  },
  {
   "cell_type": "code",
   "execution_count": 69,
   "id": "1b45ca57-af57-4ff8-813f-ce6e017d53e8",
   "metadata": {},
   "outputs": [],
   "source": [
    "### Prosite ###\n",
    "#import modules\n",
    "from Bio import ExPASy\n",
    "from Bio.ExPASy import Prosite\n",
    "#help(Prosite)"
   ]
  },
  {
   "cell_type": "code",
   "execution_count": 71,
   "id": "71fe845b-c817-4ebe-b3dc-0857b3fec67c",
   "metadata": {},
   "outputs": [],
   "source": [
    "handle = ExPASy.get_prosite_raw(\"PS51442\")\n",
    "record = Prosite.read(handle)"
   ]
  },
  {
   "cell_type": "code",
   "execution_count": 73,
   "id": "b3fe1e6c-bbdc-4989-9228-70fdaf526f86",
   "metadata": {},
   "outputs": [
    {
     "name": "stdout",
     "output_type": "stream",
     "text": [
      "Coronavirus main protease (M-pro) domain profile.\n"
     ]
    }
   ],
   "source": [
    "print(record.description)"
   ]
  },
  {
   "cell_type": "code",
   "execution_count": 75,
   "id": "b81d0077-2c2e-41de-9f19-422fe0a3af3d",
   "metadata": {},
   "outputs": [
    {
     "name": "stdout",
     "output_type": "stream",
     "text": [
      "[]\n"
     ]
    }
   ],
   "source": [
    "print(record.pdb_structs[:10])"
   ]
  },
  {
   "cell_type": "code",
   "execution_count": 77,
   "id": "5531f0d1-5c12-4a7f-9e0a-9e314394fde4",
   "metadata": {},
   "outputs": [
    {
     "name": "stdout",
     "output_type": "stream",
     "text": [
      "N-{P}-[ST]-{P}.\n"
     ]
    }
   ],
   "source": [
    "handle = ExPASy.get_prosite_raw(\"PS00001\")\n",
    "record = Prosite.read(handle)\n",
    "print(record.pattern)"
   ]
  },
  {
   "cell_type": "code",
   "execution_count": 79,
   "id": "83d7af72-a2d3-453a-aba2-99477aca9971",
   "metadata": {},
   "outputs": [],
   "source": [
    "### ScanProsite ###\n",
    "#Import necessary modules \n",
    "from Bio.ExPASy import ScanProsite\n",
    "from Bio import SeqIO"
   ]
  },
  {
   "cell_type": "code",
   "execution_count": 52,
   "id": "a93b1a86-6ce1-475d-a1b0-d463b0215327",
   "metadata": {},
   "outputs": [
    {
     "ename": "FileNotFoundError",
     "evalue": "[Errno 2] No such file or directory: 'prot_seq.fasta'",
     "output_type": "error",
     "traceback": [
      "\u001b[1;31m---------------------------------------------------------------------------\u001b[0m",
      "\u001b[1;31mFileNotFoundError\u001b[0m                         Traceback (most recent call last)",
      "Cell \u001b[1;32mIn[52], line 1\u001b[0m\n\u001b[1;32m----> 1\u001b[0m prot_record \u001b[38;5;241m=\u001b[39m SeqIO\u001b[38;5;241m.\u001b[39mread(\u001b[38;5;124m\"\u001b[39m\u001b[38;5;124mprot_seq.fasta\u001b[39m\u001b[38;5;124m\"\u001b[39m, \u001b[38;5;28mformat\u001b[39m\u001b[38;5;241m=\u001b[39m\u001b[38;5;124m\"\u001b[39m\u001b[38;5;124mfasta\u001b[39m\u001b[38;5;124m\"\u001b[39m)\n\u001b[0;32m      2\u001b[0m \u001b[38;5;28mlen\u001b[39m(prot_record\u001b[38;5;241m.\u001b[39mseq)\n",
      "File \u001b[1;32m~\\AppData\\Local\\anaconda3\\Lib\\site-packages\\Bio\\SeqIO\\__init__.py:654\u001b[0m, in \u001b[0;36mread\u001b[1;34m(handle, format, alphabet)\u001b[0m\n\u001b[0;32m    614\u001b[0m \u001b[38;5;28;01mdef\u001b[39;00m \u001b[38;5;21mread\u001b[39m(handle, \u001b[38;5;28mformat\u001b[39m, alphabet\u001b[38;5;241m=\u001b[39m\u001b[38;5;28;01mNone\u001b[39;00m):\n\u001b[0;32m    615\u001b[0m \u001b[38;5;250m    \u001b[39m\u001b[38;5;124;03m\"\"\"Turn a sequence file into a single SeqRecord.\u001b[39;00m\n\u001b[0;32m    616\u001b[0m \n\u001b[0;32m    617\u001b[0m \u001b[38;5;124;03m    Arguments:\u001b[39;00m\n\u001b[1;32m   (...)\u001b[0m\n\u001b[0;32m    652\u001b[0m \u001b[38;5;124;03m    to read multiple records from the handle.\u001b[39;00m\n\u001b[0;32m    653\u001b[0m \u001b[38;5;124;03m    \"\"\"\u001b[39;00m\n\u001b[1;32m--> 654\u001b[0m     iterator \u001b[38;5;241m=\u001b[39m parse(handle, \u001b[38;5;28mformat\u001b[39m, alphabet)\n\u001b[0;32m    655\u001b[0m     \u001b[38;5;28;01mtry\u001b[39;00m:\n\u001b[0;32m    656\u001b[0m         record \u001b[38;5;241m=\u001b[39m \u001b[38;5;28mnext\u001b[39m(iterator)\n",
      "File \u001b[1;32m~\\AppData\\Local\\anaconda3\\Lib\\site-packages\\Bio\\SeqIO\\__init__.py:607\u001b[0m, in \u001b[0;36mparse\u001b[1;34m(handle, format, alphabet)\u001b[0m\n\u001b[0;32m    605\u001b[0m iterator_generator \u001b[38;5;241m=\u001b[39m _FormatToIterator\u001b[38;5;241m.\u001b[39mget(\u001b[38;5;28mformat\u001b[39m)\n\u001b[0;32m    606\u001b[0m \u001b[38;5;28;01mif\u001b[39;00m iterator_generator:\n\u001b[1;32m--> 607\u001b[0m     \u001b[38;5;28;01mreturn\u001b[39;00m iterator_generator(handle)\n\u001b[0;32m    608\u001b[0m \u001b[38;5;28;01mif\u001b[39;00m \u001b[38;5;28mformat\u001b[39m \u001b[38;5;129;01min\u001b[39;00m AlignIO\u001b[38;5;241m.\u001b[39m_FormatToIterator:\n\u001b[0;32m    609\u001b[0m     \u001b[38;5;66;03m# Use Bio.AlignIO to read in the alignments\u001b[39;00m\n\u001b[0;32m    610\u001b[0m     \u001b[38;5;28;01mreturn\u001b[39;00m (r \u001b[38;5;28;01mfor\u001b[39;00m alignment \u001b[38;5;129;01min\u001b[39;00m AlignIO\u001b[38;5;241m.\u001b[39mparse(handle, \u001b[38;5;28mformat\u001b[39m) \u001b[38;5;28;01mfor\u001b[39;00m r \u001b[38;5;129;01min\u001b[39;00m alignment)\n",
      "File \u001b[1;32m~\\AppData\\Local\\anaconda3\\Lib\\site-packages\\Bio\\SeqIO\\FastaIO.py:183\u001b[0m, in \u001b[0;36mFastaIterator.__init__\u001b[1;34m(self, source, alphabet, title2ids)\u001b[0m\n\u001b[0;32m    181\u001b[0m     \u001b[38;5;28;01mraise\u001b[39;00m \u001b[38;5;167;01mValueError\u001b[39;00m(\u001b[38;5;124m\"\u001b[39m\u001b[38;5;124mThe alphabet argument is no longer supported\u001b[39m\u001b[38;5;124m\"\u001b[39m)\n\u001b[0;32m    182\u001b[0m \u001b[38;5;28mself\u001b[39m\u001b[38;5;241m.\u001b[39mtitle2ids \u001b[38;5;241m=\u001b[39m title2ids\n\u001b[1;32m--> 183\u001b[0m \u001b[38;5;28msuper\u001b[39m()\u001b[38;5;241m.\u001b[39m\u001b[38;5;21m__init__\u001b[39m(source, mode\u001b[38;5;241m=\u001b[39m\u001b[38;5;124m\"\u001b[39m\u001b[38;5;124mt\u001b[39m\u001b[38;5;124m\"\u001b[39m, fmt\u001b[38;5;241m=\u001b[39m\u001b[38;5;124m\"\u001b[39m\u001b[38;5;124mFasta\u001b[39m\u001b[38;5;124m\"\u001b[39m)\n",
      "File \u001b[1;32m~\\AppData\\Local\\anaconda3\\Lib\\site-packages\\Bio\\SeqIO\\Interfaces.py:47\u001b[0m, in \u001b[0;36mSequenceIterator.__init__\u001b[1;34m(self, source, alphabet, mode, fmt)\u001b[0m\n\u001b[0;32m     45\u001b[0m     \u001b[38;5;28;01mraise\u001b[39;00m \u001b[38;5;167;01mValueError\u001b[39;00m(\u001b[38;5;124m\"\u001b[39m\u001b[38;5;124mThe alphabet argument is no longer supported\u001b[39m\u001b[38;5;124m\"\u001b[39m)\n\u001b[0;32m     46\u001b[0m \u001b[38;5;28;01mtry\u001b[39;00m:\n\u001b[1;32m---> 47\u001b[0m     \u001b[38;5;28mself\u001b[39m\u001b[38;5;241m.\u001b[39mstream \u001b[38;5;241m=\u001b[39m \u001b[38;5;28mopen\u001b[39m(source, \u001b[38;5;124m\"\u001b[39m\u001b[38;5;124mr\u001b[39m\u001b[38;5;124m\"\u001b[39m \u001b[38;5;241m+\u001b[39m mode)\n\u001b[0;32m     48\u001b[0m     \u001b[38;5;28mself\u001b[39m\u001b[38;5;241m.\u001b[39mshould_close_stream \u001b[38;5;241m=\u001b[39m \u001b[38;5;28;01mTrue\u001b[39;00m\n\u001b[0;32m     49\u001b[0m \u001b[38;5;28;01mexcept\u001b[39;00m \u001b[38;5;167;01mTypeError\u001b[39;00m:  \u001b[38;5;66;03m# not a path, assume we received a stream\u001b[39;00m\n",
      "\u001b[1;31mFileNotFoundError\u001b[0m: [Errno 2] No such file or directory: 'prot_seq.fasta'"
     ]
    }
   ],
   "source": [
    "prot_record = SeqIO.read(\"prot_seq.fasta\", format=\"fasta\")\n",
    "len(prot_record.seq)"
   ]
  },
  {
   "cell_type": "code",
   "execution_count": 54,
   "id": "f09207b1-785a-4416-9f12-fda9ff1fa639",
   "metadata": {},
   "outputs": [
    {
     "ename": "NameError",
     "evalue": "name 'prot_record' is not defined",
     "output_type": "error",
     "traceback": [
      "\u001b[1;31m---------------------------------------------------------------------------\u001b[0m",
      "\u001b[1;31mNameError\u001b[0m                                 Traceback (most recent call last)",
      "Cell \u001b[1;32mIn[54], line 1\u001b[0m\n\u001b[1;32m----> 1\u001b[0m handle \u001b[38;5;241m=\u001b[39m ScanProsite\u001b[38;5;241m.\u001b[39mscan(seq\u001b[38;5;241m=\u001b[39mprot_record\u001b[38;5;241m.\u001b[39mseq, mirror\u001b[38;5;241m=\u001b[39m\u001b[38;5;124m\"\u001b[39m\u001b[38;5;124mhttps://prosite.expasy.org/\u001b[39m\u001b[38;5;124m\"\u001b[39m)\n\u001b[0;32m      2\u001b[0m result \u001b[38;5;241m=\u001b[39m ScanProsite\u001b[38;5;241m.\u001b[39mread(handle)\n",
      "\u001b[1;31mNameError\u001b[0m: name 'prot_record' is not defined"
     ]
    }
   ],
   "source": [
    "handle = ScanProsite.scan(seq=prot_record.seq, mirror=\"https://prosite.expasy.org/\")\n",
    "result = ScanProsite.read(handle)"
   ]
  },
  {
   "cell_type": "code",
   "execution_count": null,
   "id": "e064eaf9-557d-404b-abd1-4c0cc28738f4",
   "metadata": {},
   "outputs": [],
   "source": [
    "result.n_match"
   ]
  },
  {
   "cell_type": "code",
   "execution_count": null,
   "id": "f0055e6d-1e80-4f0d-ac06-cfe7e5a0243d",
   "metadata": {},
   "outputs": [],
   "source": [
    "result[0]"
   ]
  }
 ],
 "metadata": {
  "kernelspec": {
   "display_name": "Python 3 (ipykernel)",
   "language": "python",
   "name": "python3"
  },
  "language_info": {
   "codemirror_mode": {
    "name": "ipython",
    "version": 3
   },
   "file_extension": ".py",
   "mimetype": "text/x-python",
   "name": "python",
   "nbconvert_exporter": "python",
   "pygments_lexer": "ipython3",
   "version": "3.12.4"
  }
 },
 "nbformat": 4,
 "nbformat_minor": 5
}
