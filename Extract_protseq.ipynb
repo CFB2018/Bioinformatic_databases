{
 "cells": [
  {
   "cell_type": "markdown",
   "id": "39a2282e-b1b7-47a8-950d-7015b1e1dc25",
   "metadata": {},
   "source": [
    "# Extract proteinsequences from the Protein Data Bank (PDB) at the National Center for Biotechnology Information (NCBI)"
   ]
  },
  {
   "cell_type": "code",
   "execution_count": 4,
   "id": "7e1190a0-8aba-452f-8e41-be1d0dacaf72",
   "metadata": {},
   "outputs": [],
   "source": [
    "#Import modules\n",
    "from Bio.PDB import PDBParser, PDBList\n",
    "#help(PDBList)"
   ]
  },
  {
   "cell_type": "code",
   "execution_count": 6,
   "id": "70313a30-cbca-4890-8ebb-1aaf1895aa2e",
   "metadata": {},
   "outputs": [
    {
     "name": "stdout",
     "output_type": "stream",
     "text": [
      "Downloading PDB structure '7BYR'...\n"
     ]
    },
    {
     "data": {
      "text/plain": [
       "'dir\\\\pdb7byr.ent'"
      ]
     },
     "execution_count": 6,
     "metadata": {},
     "output_type": "execute_result"
    }
   ],
   "source": [
    "#Download the 7BYR structure from the PDB database\n",
    "pdbl=PDBList()\n",
    "pdbl.retrieve_pdb_file(\"7BYR\", file_format=\"pdb\", pdir=\"dir\")"
   ]
  },
  {
   "cell_type": "code",
   "execution_count": 8,
   "id": "67ee7baf-f738-4f69-82ab-2381ad838aed",
   "metadata": {},
   "outputs": [
    {
     "name": "stderr",
     "output_type": "stream",
     "text": [
      "C:\\Users\\marbj610\\AppData\\Local\\anaconda3\\Lib\\site-packages\\Bio\\PDB\\StructureBuilder.py:89: PDBConstructionWarning: WARNING: Chain A is discontinuous at line 26237.\n",
      "  warnings.warn(\n",
      "C:\\Users\\marbj610\\AppData\\Local\\anaconda3\\Lib\\site-packages\\Bio\\PDB\\StructureBuilder.py:89: PDBConstructionWarning: WARNING: Chain B is discontinuous at line 26405.\n",
      "  warnings.warn(\n",
      "C:\\Users\\marbj610\\AppData\\Local\\anaconda3\\Lib\\site-packages\\Bio\\PDB\\StructureBuilder.py:89: PDBConstructionWarning: WARNING: Chain C is discontinuous at line 26545.\n",
      "  warnings.warn(\n"
     ]
    }
   ],
   "source": [
    "parser = PDBParser()\n",
    "structure = parser.get_structure(\"7BYR\",\"dir/pdb7byr.ent\")\n",
    "#There seems to be a discontinuity in Chains A, B, and C."
   ]
  },
  {
   "cell_type": "code",
   "execution_count": 10,
   "id": "ff04ea16-6dce-4538-90d5-7fdeafffba71",
   "metadata": {},
   "outputs": [
    {
     "name": "stdout",
     "output_type": "stream",
     "text": [
      "chainid: A\n",
      "chainid: B\n",
      "chainid: C\n",
      "chainid: H\n",
      "chainid: L\n",
      "chainid: D\n",
      "chainid: E\n",
      "chainid: F\n",
      "chainid: G\n",
      "chainid: I\n",
      "chainid: J\n"
     ]
    }
   ],
   "source": [
    "#How many chains does the structure contain?\n",
    "for chain in structure[0]:\n",
    "    print(\"chainid: {}\".format(chain.id))"
   ]
  },
  {
   "cell_type": "code",
   "execution_count": 12,
   "id": "de64acdf-6e34-4d85-8dfe-a13548020e94",
   "metadata": {},
   "outputs": [
    {
     "data": {
      "text/plain": [
       "3.84"
      ]
     },
     "execution_count": 12,
     "metadata": {},
     "output_type": "execute_result"
    }
   ],
   "source": [
    "resolution = structure.header[\"resolution\"]\n",
    "resolution"
   ]
  },
  {
   "cell_type": "code",
   "execution_count": 14,
   "id": "ee7cfdcc-f3ee-4ef3-88d2-a2a8e356c953",
   "metadata": {},
   "outputs": [
    {
     "data": {
      "text/plain": [
       "'sars-cov-2, antigen, rbd, neutralizing antibody, viral protein'"
      ]
     },
     "execution_count": 14,
     "metadata": {},
     "output_type": "execute_result"
    }
   ],
   "source": [
    "#Which keywords are associated with this structure?\n",
    "keywords = structure.header[\"keywords\"]\n",
    "keywords"
   ]
  },
  {
   "cell_type": "code",
   "execution_count": 16,
   "id": "1b45ca57-af57-4ff8-813f-ce6e017d53e8",
   "metadata": {},
   "outputs": [],
   "source": [
    "### Prosite ###\n",
    "#import modules\n",
    "from Bio import ExPASy\n",
    "from Bio.ExPASy import Prosite\n",
    "#help(Prosite)"
   ]
  },
  {
   "cell_type": "code",
   "execution_count": 18,
   "id": "71fe845b-c817-4ebe-b3dc-0857b3fec67c",
   "metadata": {},
   "outputs": [],
   "source": [
    "handle = ExPASy.get_prosite_raw(\"PS51442\")\n",
    "record = Prosite.read(handle)"
   ]
  },
  {
   "cell_type": "code",
   "execution_count": 20,
   "id": "b3fe1e6c-bbdc-4989-9228-70fdaf526f86",
   "metadata": {},
   "outputs": [
    {
     "name": "stdout",
     "output_type": "stream",
     "text": [
      "Coronavirus main protease (M-pro) domain profile.\n"
     ]
    }
   ],
   "source": [
    "print(record.description)"
   ]
  },
  {
   "cell_type": "code",
   "execution_count": 26,
   "id": "b81d0077-2c2e-41de-9f19-422fe0a3af3d",
   "metadata": {},
   "outputs": [
    {
     "name": "stdout",
     "output_type": "stream",
     "text": [
      "[]\n"
     ]
    }
   ],
   "source": [
    "print(record.pdb_structs[:3])"
   ]
  },
  {
   "cell_type": "code",
   "execution_count": 77,
   "id": "5531f0d1-5c12-4a7f-9e0a-9e314394fde4",
   "metadata": {},
   "outputs": [
    {
     "name": "stdout",
     "output_type": "stream",
     "text": [
      "N-{P}-[ST]-{P}.\n"
     ]
    }
   ],
   "source": [
    "handle = ExPASy.get_prosite_raw(\"PS00001\")\n",
    "record = Prosite.read(handle)\n",
    "print(record.pattern)"
   ]
  },
  {
   "cell_type": "code",
   "execution_count": 28,
   "id": "83d7af72-a2d3-453a-aba2-99477aca9971",
   "metadata": {},
   "outputs": [],
   "source": [
    "### ScanProsite ###\n",
    "#Import necessary modules \n",
    "from Bio.ExPASy import ScanProsite\n",
    "from Bio import SeqIO"
   ]
  },
  {
   "cell_type": "code",
   "execution_count": 32,
   "id": "a93b1a86-6ce1-475d-a1b0-d463b0215327",
   "metadata": {},
   "outputs": [
    {
     "data": {
      "text/plain": [
       "147"
      ]
     },
     "execution_count": 32,
     "metadata": {},
     "output_type": "execute_result"
    }
   ],
   "source": [
    "prot_record = SeqIO.read(r\"C:\\Users\\marbj610\\Documents\\Repository\\prot_seq.fasta\", format=\"fasta\")\n",
    "len(prot_record.seq)"
   ]
  },
  {
   "cell_type": "code",
   "execution_count": 34,
   "id": "f09207b1-785a-4416-9f12-fda9ff1fa639",
   "metadata": {},
   "outputs": [],
   "source": [
    "#Initiate a scan of the protein sequence against the Prosite database to identify any matching domains/motifs.\n",
    "handle = ScanProsite.scan(seq=prot_record.seq, mirror=\"https://prosite.expasy.org/\")\n",
    "result = ScanProsite.read(handle)"
   ]
  },
  {
   "cell_type": "code",
   "execution_count": 35,
   "id": "e064eaf9-557d-404b-abd1-4c0cc28738f4",
   "metadata": {},
   "outputs": [
    {
     "data": {
      "text/plain": [
       "1"
      ]
     },
     "execution_count": 35,
     "metadata": {},
     "output_type": "execute_result"
    }
   ],
   "source": [
    "result.n_match"
   ]
  },
  {
   "cell_type": "code",
   "execution_count": 36,
   "id": "f0055e6d-1e80-4f0d-ac06-cfe7e5a0243d",
   "metadata": {},
   "outputs": [
    {
     "data": {
      "text/plain": [
       "{'sequence_ac': 'USERSEQ1',\n",
       " 'start': 3,\n",
       " 'stop': 147,\n",
       " 'signature_ac': 'PS01033',\n",
       " 'score': '43.983',\n",
       " 'level': '0'}"
      ]
     },
     "execution_count": 36,
     "metadata": {},
     "output_type": "execute_result"
    }
   ],
   "source": [
    "#Result of matched motif and the location in the protein sequence.\n",
    "#USERSEQ1=accession code for the sequence that was scanned.\n",
    "#PS01033=accession code for the Prosite pattern that was matched.\n",
    "#score=confidence in match, level=classification level\n",
    "result[0]"
   ]
  }
 ],
 "metadata": {
  "kernelspec": {
   "display_name": "Python 3 (ipykernel)",
   "language": "python",
   "name": "python3"
  },
  "language_info": {
   "codemirror_mode": {
    "name": "ipython",
    "version": 3
   },
   "file_extension": ".py",
   "mimetype": "text/x-python",
   "name": "python",
   "nbconvert_exporter": "python",
   "pygments_lexer": "ipython3",
   "version": "3.12.4"
  }
 },
 "nbformat": 4,
 "nbformat_minor": 5
}
