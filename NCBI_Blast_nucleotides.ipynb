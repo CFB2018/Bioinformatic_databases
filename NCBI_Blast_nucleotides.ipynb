{
 "cells": [
  {
   "cell_type": "markdown",
   "metadata": {},
   "source": [
    "### Nucleotide Blast from NCBI ###"
   ]
  },
  {
   "cell_type": "code",
   "execution_count": null,
   "metadata": {
    "vscode": {
     "languageId": "plaintext"
    }
   },
   "outputs": [],
   "source": [
    "#Open Anaconda Powershell to install biopython and open a Jupyter notebook"
   ]
  },
  {
   "cell_type": "code",
   "execution_count": null,
   "metadata": {
    "vscode": {
     "languageId": "plaintext"
    }
   },
   "outputs": [],
   "source": [
    "#Import modules from Biopython\n",
    "\n",
    "from Bio.Blast import NCBIWWW\n",
    "from Bio import SeqIO, SearchIO\n",
    "\n",
    "#help(NCBIWWW)"
   ]
  },
  {
   "cell_type": "markdown",
   "metadata": {},
   "source": []
  },
  {
   "cell_type": "code",
   "execution_count": null,
   "metadata": {
    "vscode": {
     "languageId": "plaintext"
    }
   },
   "outputs": [],
   "source": [
    "#Define the sequence and header\n",
    "header = \">Example_Nucleotide_Sequence\"\n",
    "sequence = \"\"\"CTTCTAGCGCTCGGCACCGGCGGGCCAGGCGCGTCCTGCCTTCATTTATCCAGCAGCTTTTCGGAAAATG\n",
    "CATTTGCTGTTCGGAGTTTAATCAGAAGAGGATTCCTGCCTCCGTCCCCGGCTCCTTCATCGTCCCCTCT\n",
    "CCCCTGTCTCTCTCCTGGGGAGGCGTGAAGCGGTCCCGTGGATAGAGATTCATGCCTGTGCCCGCGCGTG\n",
    "TGTGCGCGCGTGTAAATTGCCGAGAAGGGGAAAACATCACAGGACTTCTGCGAATACCGGACTGAAAATT\n",
    "GTAATTCATCTGCCGCCGCCGCTGCCTTTTTTTTTTCTCGAGCTCTTGAGATCTCCGGTTGGGATTCCTG\n",
    "CGGATTGACATTTCTGTGAAGCAGAAGTCTGGGAATCGATCTGGAAATCCTCCTAATTTTTACTCCCTCT\n",
    "CCCCGCGACTCCTGATTCATTGGGAA\"\"\"\n",
    "\n",
    "#Open a file in write mode\n",
    "with open(\"nuc_seq.fasta\", \"w\") as fasta_file:\n",
    "    #Write the header and the sequence to the file\n",
    "    fasta_file.write(header + \"\\n\") #Write the header line\n",
    "    fasta_file.write(sequence + \"\\n\") #Write the sequence"
   ]
  },
  {
   "cell_type": "code",
   "execution_count": null,
   "metadata": {
    "vscode": {
     "languageId": "plaintext"
    }
   },
   "outputs": [],
   "source": [
    "#Print the directory path of the Jupyter notebook \n",
    "import os\n",
    "print(os.getcwd())\n",
    "\n",
    "#List files in directory\n",
    "#print(os.listdir())\n",
    "\n",
    "#Print full path of the fasta file created above\n",
    "for root, dirs, files in os.walk(os.getcwd()):\n",
    "    for file in files:\n",
    "        if file.endswith(\".fasta\"):\n",
    "            print(os.path.join(root, file))"
   ]
  },
  {
   "cell_type": "code",
   "execution_count": null,
   "metadata": {
    "vscode": {
     "languageId": "plaintext"
    }
   },
   "outputs": [],
   "source": [
    "#Check whether the file exists and read the sequence\n",
    "try:\n",
    "    nuc_record = SeqIO.read(\"nuc_seq.fasta\", format = \"fasta\")\n",
    "    #Get the length of the nucleotide record\n",
    "    length = len(nuc_record)\n",
    "    print(\"The length of the sequence is {}\".format(length))\n",
    "except FileNotFoundError:\n",
    "    print(\"The file 'nuc_seq.fasta' was not found.\")\n",
    "except Exception as e:\n",
    "    print(\"An error occured: {}\".format(e))"
   ]
  },
  {
   "cell_type": "code",
   "execution_count": null,
   "metadata": {
    "vscode": {
     "languageId": "plaintext"
    }
   },
   "outputs": [],
   "source": [
    "#Define nuc_record by reading a sequence from a FASTA file\n",
    "nuc_record = SeqIO.read(r\"C:\\Users\\marbj610\\nuc_seq.fasta\", \"fasta\")\n",
    "\n",
    "#Use nuc_record in the NCBIWWW function\n",
    "result_handle = NCBIWWW.qblast(\"blastn\", \"nt\", nuc_record.seq)\n",
    "blast_result = SearchIO.read(result_handle, \"blast-xml\")"
   ]
  },
  {
   "cell_type": "code",
   "execution_count": null,
   "metadata": {
    "vscode": {
     "languageId": "plaintext"
    }
   },
   "outputs": [],
   "source": [
    "print(blast_result[0:2])"
   ]
  },
  {
   "cell_type": "code",
   "execution_count": null,
   "metadata": {
    "vscode": {
     "languageId": "plaintext"
    }
   },
   "outputs": [],
   "source": [
    "Seq = blast_result[0]\n",
    "print(\"Sequence ID: {}\".format(Seq.id))\n",
    "print(\"Sequence Description: {}\".format(Seq.description))\n",
    "details = Seq[0]\n",
    "print(\"E-value: {}\".format(details.evalue))"
   ]
  },
  {
   "cell_type": "code",
   "execution_count": null,
   "metadata": {
    "vscode": {
     "languageId": "plaintext"
    }
   },
   "outputs": [],
   "source": [
    "print(\"alignment:\\n{}\".format(details.aln))"
   ]
  }
 ],
 "metadata": {
  "language_info": {
   "name": "python"
  }
 },
 "nbformat": 4,
 "nbformat_minor": 2
}
