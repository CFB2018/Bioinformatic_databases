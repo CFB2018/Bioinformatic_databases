{
 "cells": [
  {
   "cell_type": "markdown",
   "id": "438dce11-2d03-4943-b2c2-d974a2c1bf8f",
   "metadata": {},
   "source": [
    "# Nucleotide Blast from NCBI #"
   ]
  },
  {
   "cell_type": "markdown",
   "id": "e250014e-d0b0-4f9a-9e3d-f0af7414dc68",
   "metadata": {},
   "source": [
    "###### Open Anaconda Powershell to install Biopython, then launch a Jupyter notebook.\n",
    "###### Versions:\n",
    "###### Anaconda navigator 2.6.2\n",
    "###### Conda 24.7.1\n",
    "###### Biopython 1.78\n",
    "###### Python 3.12.4"
   ]
  },
  {
   "cell_type": "code",
   "execution_count": 3,
   "id": "790bdd92-a6cd-4ab0-a4fd-b6e310699215",
   "metadata": {},
   "outputs": [],
   "source": [
    "#Import modules from Biopython\n",
    "from Bio.Blast import NCBIWWW\n",
    "from Bio import SeqIO, SearchIO"
   ]
  },
  {
   "cell_type": "code",
   "execution_count": null,
   "id": "05a63172-beb3-4035-b82d-409651fa12fc",
   "metadata": {},
   "outputs": [],
   "source": [
    "# help(NCBIWWW)"
   ]
  },
  {
   "cell_type": "code",
   "execution_count": 5,
   "id": "2d779fc3-42dc-444e-85f8-23d41f5797be",
   "metadata": {},
   "outputs": [],
   "source": [
    "#Define the sequence and header\n",
    "header = \">Example_Nucleotide_Sequence\"\n",
    "sequence = \"\"\"CTTCTAGCGCTCGGCACCGGCGGGCCAGGCGCGTCCTGCCTTCATTTATCCAGCAGCTTTTCGGAAAATG\n",
    "CATTTGCTGTTCGGAGTTTAATCAGAAGAGGATTCCTGCCTCCGTCCCCGGCTCCTTCATCGTCCCCTCT\n",
    "CCCCTGTCTCTCTCCTGGGGAGGCGTGAAGCGGTCCCGTGGATAGAGATTCATGCCTGTGCCCGCGCGTG\n",
    "TGTGCGCGCGTGTAAATTGCCGAGAAGGGGAAAACATCACAGGACTTCTGCGAATACCGGACTGAAAATT\n",
    "GTAATTCATCTGCCGCCGCCGCTGCCTTTTTTTTTTCTCGAGCTCTTGAGATCTCCGGTTGGGATTCCTG\n",
    "CGGATTGACATTTCTGTGAAGCAGAAGTCTGGGAATCGATCTGGAAATCCTCCTAATTTTTACTCCCTCT\n",
    "CCCCGCGACTCCTGATTCATTGGGAA\"\"\"\n",
    "\n",
    "#Open a file in write mode\n",
    "with open(\"nuc_seq.fasta\", \"w\") as fasta_file:\n",
    "    #Write the header and the sequence to the file\n",
    "    fasta_file.write(header + \"\\n\") #Write the header line\n",
    "    fasta_file.write(sequence + \"\\n\") #Write the sequence"
   ]
  },
  {
   "cell_type": "code",
   "execution_count": 7,
   "id": "f93f78ee-0aa7-4c52-9614-574e90e59673",
   "metadata": {},
   "outputs": [
    {
     "name": "stdout",
     "output_type": "stream",
     "text": [
      "C:\\Users\\marbj610\\Desktop\\Projects\\Probabilities\n",
      "C:\\Users\\marbj610\\Desktop\\Projects\\Probabilities\\nuc_seq.fasta\n"
     ]
    }
   ],
   "source": [
    "#Print the directory path of the Jupyter notebook \n",
    "import os\n",
    "print(os.getcwd())\n",
    "\n",
    "#List files in directory\n",
    "#print(os.listdir())\n",
    "\n",
    "#Print full path of the fasta file created above\n",
    "for root, dirs, files in os.walk(os.getcwd()):\n",
    "    for file in files:\n",
    "        if file.endswith(\".fasta\"):\n",
    "            print(os.path.join(root, file))"
   ]
  },
  {
   "cell_type": "code",
   "execution_count": 11,
   "id": "e20a0be5-2d2d-4b13-962d-a252cefaacc5",
   "metadata": {},
   "outputs": [
    {
     "name": "stdout",
     "output_type": "stream",
     "text": [
      "The length of the sequence is 446.\n"
     ]
    }
   ],
   "source": [
    "#Check whether the file exists and read the sequence\n",
    "try:\n",
    "    nuc_record = SeqIO.read(\"nuc_seq.fasta\", format = \"fasta\")\n",
    "    #Get the length of the nucleotide record\n",
    "    length = len(nuc_record)\n",
    "    print(\"The length of the sequence is {}.\".format(length))\n",
    "except FileNotFoundError:\n",
    "    print(\"The file 'nuc_seq.fasta' was not found.\")\n",
    "except Exception as e:\n",
    "    print(\"An error occured: {}\".format(e))"
   ]
  },
  {
   "cell_type": "code",
   "execution_count": 13,
   "id": "90304604-afa9-492e-b5b5-4454441f86e2",
   "metadata": {},
   "outputs": [],
   "source": [
    "#Define nuc_record by reading a sequence from a FASTA file\n",
    "nuc_record = SeqIO.read(r\"C:\\Users\\marbj610\\Documents\\Repository\\nuc_seq.fasta\", \"fasta\")\n",
    "\n",
    "#Use nuc_record in the NCBIWWW function\n",
    "result_handle = NCBIWWW.qblast(\"blastn\", \"nt\", nuc_record.seq)\n",
    "blast_result = SearchIO.read(result_handle, \"blast-xml\")"
   ]
  },
  {
   "cell_type": "code",
   "execution_count": 14,
   "id": "4bd8f39b-e3e1-4a1f-8fed-ec0abf39365b",
   "metadata": {},
   "outputs": [
    {
     "name": "stdout",
     "output_type": "stream",
     "text": [
      "Program: blastn (2.16.0+)\n",
      "  Query: No (446)\n",
      "         definition line\n",
      " Target: nt\n",
      "   Hits: ----  -----  ----------------------------------------------------------\n",
      "            #  # HSP  ID + description\n",
      "         ----  -----  ----------------------------------------------------------\n",
      "            0      1  gi|1830949194|ref|NM_000657.3|  Homo sapiens BCL2 apopt...\n",
      "            1      1  gi|1830949192|ref|NM_000633.3|  Homo sapiens BCL2 apopt...\n"
     ]
    }
   ],
   "source": [
    "print(blast_result[0:2])"
   ]
  },
  {
   "cell_type": "code",
   "execution_count": 15,
   "id": "d1342d23-719f-43e3-aff1-fa468f09f8d6",
   "metadata": {},
   "outputs": [
    {
     "name": "stdout",
     "output_type": "stream",
     "text": [
      "Sequence ID: gi|1830949194|ref|NM_000657.3|\n",
      "Sequence Description: Homo sapiens BCL2 apoptosis regulator (BCL2), transcript variant beta, mRNA\n",
      "E-value: 0.0\n"
     ]
    }
   ],
   "source": [
    "Seq = blast_result[0]\n",
    "print(\"Sequence ID: {}\".format(Seq.id))\n",
    "print(\"Sequence Description: {}\".format(Seq.description))\n",
    "details = Seq[0]\n",
    "print(\"E-value: {}\".format(details.evalue))"
   ]
  },
  {
   "cell_type": "code",
   "execution_count": 16,
   "id": "3c76244a-1a13-4619-9d52-b2be3d2d0afa",
   "metadata": {},
   "outputs": [
    {
     "name": "stdout",
     "output_type": "stream",
     "text": [
      "alignment:\n",
      "Alignment with 2 rows and 446 columns\n",
      "CTTCTAGCGCTCGGCACCGGCGGGCCAGGCGCGTCCTGCCTTCA...GAA No\n",
      "CTTCTAGCGCTCGGCACCGGCGGGCCAGGCGCGTCCTGCCTTCA...GAA gi|1830949194|ref|NM_000657.3|\n"
     ]
    }
   ],
   "source": [
    "print(\"alignment:\\n{}\".format(details.aln))"
   ]
  }
 ],
 "metadata": {
  "kernelspec": {
   "display_name": "Python 3 (ipykernel)",
   "language": "python",
   "name": "python3"
  },
  "language_info": {
   "codemirror_mode": {
    "name": "ipython",
    "version": 3
   },
   "file_extension": ".py",
   "mimetype": "text/x-python",
   "name": "python",
   "nbconvert_exporter": "python",
   "pygments_lexer": "ipython3",
   "version": "3.12.4"
  }
 },
 "nbformat": 4,
 "nbformat_minor": 5
}
