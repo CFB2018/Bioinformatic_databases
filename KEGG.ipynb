{
 "cells": [
  {
   "cell_type": "code",
   "execution_count": 79,
   "id": "7e1190a0-8aba-452f-8e41-be1d0dacaf72",
   "metadata": {},
   "outputs": [],
   "source": [
    "### KEGG ###\n",
    "#Download Modules\n",
    "from Bio.KEGG import REST, Enzyme"
   ]
  },
  {
   "cell_type": "code",
   "execution_count": 83,
   "id": "e9e4bd7a-1bcf-42fa-a18c-df04d611aa5e",
   "metadata": {},
   "outputs": [],
   "source": [
    "#help(Enzyme)"
   ]
  },
  {
   "cell_type": "code",
   "execution_count": 87,
   "id": "54505fe1-8bdb-4b2a-9f5d-786eb1ce2d72",
   "metadata": {},
   "outputs": [
    {
     "data": {
      "text/plain": [
       "460"
      ]
     },
     "execution_count": 87,
     "metadata": {},
     "output_type": "execute_result"
    }
   ],
   "source": [
    "#Create a variable named request to fetch information from KEGG \n",
    "#EC = enzyme commission number, written as a string. Class, substrate/group, reaction type, specific enzyme\n",
    "request = REST.kegg_get(\"ec:1.6.5.3\") #function kegg_get\n",
    "open(\"ec:1.6.5.3.txt\", \"w\").write(request.read()) #Entry ID"
   ]
  },
  {
   "cell_type": "code",
   "execution_count": 115,
   "id": "c268edce-cb8c-4bd6-b65e-d21db3decefe",
   "metadata": {},
   "outputs": [
    {
     "data": {
      "text/plain": [
       "['Oxidoreductases;',\n",
       " 'Acting on NADH or NADPH;',\n",
       " 'With a quinone or similar compound as acceptor']"
      ]
     },
     "execution_count": 115,
     "metadata": {},
     "output_type": "execute_result"
    }
   ],
   "source": [
    "#Open the text file, parse the classification data and create a list of the classes\n",
    "records = Enzyme.parse(open(\"ec:1.6.5.3.txt\"))\n",
    "record = list(records)[0]\n",
    "record.classname"
   ]
  },
  {
   "cell_type": "code",
   "execution_count": 117,
   "id": "c5f5d411-3f5f-4f57-acc5-f2e4128651e5",
   "metadata": {},
   "outputs": [
    {
     "data": {
      "text/plain": [
       "461661"
      ]
     },
     "execution_count": 117,
     "metadata": {},
     "output_type": "execute_result"
    }
   ],
   "source": [
    "request = REST.kegg_get(\"ec:1.3.5.1\") #function kegg_get\n",
    "open(\"ec:1.3.5.1.txt\", \"w\").write(request.read()) #Entry ID"
   ]
  },
  {
   "cell_type": "code",
   "execution_count": 119,
   "id": "5e64a18d-d618-43b7-ba08-490b3285a813",
   "metadata": {},
   "outputs": [
    {
     "data": {
      "text/plain": [
       "['Oxidoreductases;',\n",
       " 'Acting on the CH-CH group of donors;',\n",
       " 'With a quinone or related compound as acceptor']"
      ]
     },
     "execution_count": 119,
     "metadata": {},
     "output_type": "execute_result"
    }
   ],
   "source": [
    "records = Enzyme.parse(open(\"ec:1.3.5.1.txt\"))\n",
    "record = list(records)[0]\n",
    "record.classname\n",
    "\n",
    "#ec:1.10.2.2 \n",
    "#ec:1.9.3.1\n",
    "#ec:3.6.3.14"
   ]
  },
  {
   "cell_type": "code",
   "execution_count": 121,
   "id": "8bef6fce-a728-4547-a537-6535430e41ac",
   "metadata": {},
   "outputs": [
    {
     "data": {
      "text/plain": [
       "[('PATH', 'ec00020', 'Citrate cycle (TCA cycle)'),\n",
       " ('PATH', 'ec00190', 'Oxidative phosphorylation'),\n",
       " ('PATH', 'ec00620', 'Pyruvate metabolism'),\n",
       " ('PATH', 'ec00650', 'Butanoate metabolism'),\n",
       " ('PATH', 'ec00720', 'Other carbon fixation pathways'),\n",
       " ('PATH', 'ec01100', 'Metabolic pathways'),\n",
       " ('PATH', 'ec01110', 'Biosynthesis of secondary metabolites'),\n",
       " ('PATH', 'ec01120', 'Microbial metabolism in diverse environments')]"
      ]
     },
     "execution_count": 121,
     "metadata": {},
     "output_type": "execute_result"
    }
   ],
   "source": [
    "#Show the pathways of the enzyme\n",
    "record.pathway"
   ]
  },
  {
   "cell_type": "code",
   "execution_count": 123,
   "id": "c1d3158c-5237-45c4-a6a0-8e1405740ff1",
   "metadata": {},
   "outputs": [
    {
     "data": {
      "text/plain": [
       "[('HSA', ['6389', '6390']),\n",
       " ('PTR', ['107970891', '107974583', '456526']),\n",
       " ('PPS', ['100979967', '100989574', '134730342']),\n",
       " ('GGO', ['101124208', '101131972', '101141874']),\n",
       " ('PON', ['100173631', '100437700']),\n",
       " ('PPYG', ['129006423', '129032719', '129033000', '129033011', '129036508']),\n",
       " ('NLE',\n",
       "  ['100582706',\n",
       "   '100593202',\n",
       "   '100600690',\n",
       "   '101177207',\n",
       "   '115833880',\n",
       "   '115834056']),\n",
       " ('HMH', ['116456796', '116464049', '116812984']),\n",
       " ('SSYN', ['129464751', '129464979', '129472527', '134732860']),\n",
       " ('MCC', ['699810', '708018', '723069'])]"
      ]
     },
     "execution_count": 123,
     "metadata": {},
     "output_type": "execute_result"
    }
   ],
   "source": [
    "#Show the first 10 genes \n",
    "record.genes[:10]"
   ]
  },
  {
   "cell_type": "code",
   "execution_count": 128,
   "id": "3d4d4e49-62ee-4235-b6cb-44bde0df8edd",
   "metadata": {},
   "outputs": [
    {
     "name": "stdout",
     "output_type": "stream",
     "text": [
      "['HSA', 'PTR', 'PPS', 'GGO', 'PON']\n"
     ]
    }
   ],
   "source": [
    "#Create a new list only containing the gene names\n",
    "list_genes = []\n",
    "for x,y in record.genes:\n",
    "    list_genes += x.split(\"\\n\")\n",
    "\n",
    "print(list_genes[:5])"
   ]
  }
 ],
 "metadata": {
  "kernelspec": {
   "display_name": "Python 3 (ipykernel)",
   "language": "python",
   "name": "python3"
  },
  "language_info": {
   "codemirror_mode": {
    "name": "ipython",
    "version": 3
   },
   "file_extension": ".py",
   "mimetype": "text/x-python",
   "name": "python",
   "nbconvert_exporter": "python",
   "pygments_lexer": "ipython3",
   "version": "3.12.4"
  }
 },
 "nbformat": 4,
 "nbformat_minor": 5
}
