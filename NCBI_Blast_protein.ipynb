{
 "cells": [
  {
   "cell_type": "markdown",
   "metadata": {
    "editable": true,
    "slideshow": {
     "slide_type": ""
    },
    "tags": []
   },
   "source": [
    "### Protein Blast from NCBI ###"
   ]
  },
  {
   "cell_type": "code",
   "execution_count": null,
   "metadata": {
    "editable": true,
    "slideshow": {
     "slide_type": ""
    },
    "tags": [],
    "vscode": {
     "languageId": "plaintext"
    }
   },
   "outputs": [],
   "source": [
    "#Open Anaconda Powershell to install biopython, and after that open a Jupyter notebook\n",
    "Versions:\n",
    "anaconda navigator 2.6.2\n",
    "conda 24.7.1\n",
    "biopython 1.78\n",
    "python 3.12.4"
   ]
  },
  {
   "cell_type": "code",
   "execution_count": 83,
   "metadata": {
    "editable": true,
    "slideshow": {
     "slide_type": ""
    },
    "tags": [],
    "vscode": {
     "languageId": "plaintext"
    }
   },
   "outputs": [],
   "source": [
    "#Import modules from Biopython\n",
    "from Bio.Blast import NCBIWWW\n",
    "from Bio import SeqIO, SearchIO"
   ]
  },
  {
   "cell_type": "code",
   "execution_count": 85,
   "metadata": {
    "editable": true,
    "slideshow": {
     "slide_type": ""
    },
    "tags": [],
    "vscode": {
     "languageId": "plaintext"
    }
   },
   "outputs": [],
   "source": [
    "#Define the sequence and header\n",
    "header = \">Example_Protein_Sequence\"\n",
    "sequence = \"\"\"MVHLTPEEKSAVTALWGKVNVDEVGGEALGRLLVVYPWTQRFFESFGDLSTPDAVMGNPKVKAHGKKVLG\n",
    "AFSDGLAHLDNLKGTFATLSELHCDKLHVDPENFRLLGNVLVCVLAHHFGKEFTPPVQAAYQKVVAGVAN\n",
    "ALAHKYH\"\"\"\n",
    "\n",
    "#Open a file in write mode\n",
    "with open(\"prot_seq.fasta\", \"w\") as fasta_file:\n",
    "    #Write the header and the sequence to the file\n",
    "    fasta_file.write(header + \"\\n\") #Write the header line\n",
    "    fasta_file.write(sequence + \"\\n\") #Write the sequence"
   ]
  },
  {
   "cell_type": "code",
   "execution_count": 87,
   "metadata": {
    "editable": true,
    "slideshow": {
     "slide_type": ""
    },
    "tags": [],
    "vscode": {
     "languageId": "plaintext"
    }
   },
   "outputs": [
    {
     "name": "stdout",
     "output_type": "stream",
     "text": [
      "C:\\Users\\marbj610\\Documents\\Repository\n",
      "C:\\Users\\marbj610\\Documents\\Repository\\prot_seq.fasta\n"
     ]
    }
   ],
   "source": [
    "#Print the directory path of the Jupyter notebook \n",
    "import os\n",
    "print(os.getcwd())\n",
    "\n",
    "#Print full path of the fasta file created above\n",
    "for root, dirs, files in os.walk(os.getcwd()):\n",
    "    for file in files:\n",
    "        if file.endswith(\".fasta\"):\n",
    "            print(os.path.join(root, file))"
   ]
  },
  {
   "cell_type": "code",
   "execution_count": 89,
   "metadata": {
    "editable": true,
    "slideshow": {
     "slide_type": ""
    },
    "tags": [],
    "vscode": {
     "languageId": "plaintext"
    }
   },
   "outputs": [
    {
     "name": "stdout",
     "output_type": "stream",
     "text": [
      "The length of the sequence is 147.\n"
     ]
    }
   ],
   "source": [
    "#Check whether the file exists and read the sequence\n",
    "try:\n",
    "    prot_record = SeqIO.read(\"prot_seq.fasta\", format = \"fasta\")\n",
    "    #Get the length of the protein record\n",
    "    length = len(prot_record)\n",
    "    print(\"The length of the sequence is {}.\".format(length))\n",
    "except FileNotFoundError:\n",
    "    print(\"The file 'prot_seq.fasta' was not found.\")\n",
    "except Exception as e:\n",
    "    print(\"An error occured: {}\".format(e))"
   ]
  },
  {
   "cell_type": "code",
   "execution_count": 91,
   "metadata": {
    "editable": true,
    "slideshow": {
     "slide_type": ""
    },
    "tags": [],
    "vscode": {
     "languageId": "plaintext"
    }
   },
   "outputs": [],
   "source": [
    "#Define prot_record by reading a sequence from a FASTA file\n",
    "prot_record = SeqIO.read(r\"C:\\Users\\marbj610\\Documents\\Repository\\prot_seq.fasta\", \"fasta\")\n",
    "\n",
    "#Use prot_record in the NCBIWWW function\n",
    "result_handle = NCBIWWW.qblast(\"blastp\", \"pdb\", prot_record.seq)\n",
    "blast_result = SearchIO.read(result_handle, \"blast-xml\")"
   ]
  },
  {
   "cell_type": "code",
   "execution_count": 92,
   "metadata": {
    "editable": true,
    "slideshow": {
     "slide_type": ""
    },
    "tags": [],
    "vscode": {
     "languageId": "plaintext"
    }
   },
   "outputs": [
    {
     "name": "stdout",
     "output_type": "stream",
     "text": [
      "Program: blastp (2.16.0+)\n",
      "  Query: unnamed (147)\n",
      "         protein product\n",
      " Target: pdb\n",
      "   Hits: ----  -----  ----------------------------------------------------------\n",
      "            #  # HSP  ID + description\n",
      "         ----  -----  ----------------------------------------------------------\n",
      "            0      1  pdb|1DXT|B  Chain B, HEMOGLOBIN (DEOXY) (BETA CHAIN) [H...\n",
      "            1      1  pdb|1A3N|B  Chain B, HEMOGLOBIN (BETA CHAIN) [Homo sapi...\n"
     ]
    }
   ],
   "source": [
    "print(blast_result[0:2])"
   ]
  },
  {
   "cell_type": "code",
   "execution_count": 73,
   "metadata": {
    "editable": true,
    "slideshow": {
     "slide_type": ""
    },
    "tags": [],
    "vscode": {
     "languageId": "plaintext"
    }
   },
   "outputs": [
    {
     "name": "stdout",
     "output_type": "stream",
     "text": [
      "Sequence ID: pdb|1DXT|B\n",
      "Sequence Description: Chain B, HEMOGLOBIN (DEOXY) (BETA CHAIN) [Homo sapiens]\n",
      "E-value: 1.4425e-106\n"
     ]
    }
   ],
   "source": [
    "Seq = blast_result[0]\n",
    "print(\"Sequence ID: {}\".format(Seq.id))\n",
    "print(\"Sequence Description: {}\".format(Seq.description))\n",
    "details = Seq[0]\n",
    "print(\"E-value: {}\".format(details.evalue))"
   ]
  }
 ],
 "metadata": {
  "kernelspec": {
   "display_name": "Python 3 (ipykernel)",
   "language": "python",
   "name": "python3"
  },
  "language_info": {
   "codemirror_mode": {
    "name": "ipython",
    "version": 3
   },
   "file_extension": ".py",
   "mimetype": "text/x-python",
   "name": "python",
   "nbconvert_exporter": "python",
   "pygments_lexer": "ipython3",
   "version": "3.12.4"
  }
 },
 "nbformat": 4,
 "nbformat_minor": 4
}
